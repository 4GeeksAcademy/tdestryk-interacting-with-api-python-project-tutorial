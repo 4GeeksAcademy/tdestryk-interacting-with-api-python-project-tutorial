{
    "cells": [
        {
            "cell_type": "markdown",
            "metadata": {},
            "source": [
                "# Explore here"
            ]
        },
        {
            "cell_type": "code",
            "execution_count": 35,
            "metadata": {},
            "outputs": [],
            "source": [
                "import os\n",
                "import pandas as pd\n",
                "\n",
                "from dotenv import load_dotenv\n",
                "\n",
                "load_dotenv()\n",
                "\n",
                "client_id = os.environ.get(\"CLIENT_ID\")\n",
                "client_secret = os.environ.get(\"CLIENT_SECRET\")\n"
            ]
        },
        {
            "cell_type": "code",
            "execution_count": 36,
            "metadata": {},
            "outputs": [
                {
                    "name": "stdout",
                    "output_type": "stream",
                    "text": [
                        "Access token obtained!\n"
                    ]
                }
            ],
            "source": [
                "import base64\n",
                "import requests \n",
                "\n",
                "# Encode the client credentials\n",
                "client_credentials = f\"{client_id}:{client_secret}\"\n",
                "client_credentials_base64 = base64.b64encode(client_credentials.encode())\n",
                "\n",
                "# Prepare the token request\n",
                "token_url = \"https://accounts.spotify.com/api/token\"\n",
                "headers = {\n",
                "    \"Authorization\": f\"Basic {client_credentials_base64.decode()}\"\n",
                "}\n",
                "data = {\n",
                "    \"grant_type\": \"client_credentials\"\n",
                "}\n",
                "\n",
                "# Request access token\n",
                "response = requests.post(token_url, headers=headers, data=data)\n",
                "\n",
                "# Check if the request was successful\n",
                "if response.status_code == 200:\n",
                "    access_token = response.json()['access_token']\n",
                "    print(\"Access token obtained!\")\n",
                "else:\n",
                "    print(f\"Failed to obtain access token. Status code: {response.status_code}\")\n",
                "    print(response.text)"
            ]
        },
        {
            "cell_type": "code",
            "execution_count": 43,
            "metadata": {},
            "outputs": [
                {
                    "name": "stdout",
                    "output_type": "stream",
                    "text": [
                        "Found artist: TOOL (ID: 2yEwvVSSSUkcLeSTNyHKh8)\n"
                    ]
                }
            ],
            "source": [
                "headers = {\n",
                "    \"Authorization\": f\"Bearer {access_token}\"\n",
                "}\n",
                "\n",
                "search_url = \"https://api.spotify.com/v1/search\"\n",
                "params = {\n",
                "    \"q\": \"Tool\", \n",
                "    \"type\": \"artist\",\n",
                "    \"limit\": 1\n",
                "}\n",
                "\n",
                "response = requests.get(search_url, headers=headers, params=params)\n",
                "\n",
                "if response.status_code == 200:\n",
                "    response_data = response.json()\n",
                "    # print(f\"Response Data: {response_data}\")\n",
                "    artist_id = response_data['artists']['items'][0]['id']\n",
                "    artist_name = response_data['artists']['items'][0]['name']\n",
                "    print(f\"Found artist: {artist_name} (ID: {artist_id})\")\n",
                "else:\n",
                "    print(f\"Failed to search for artist. Status code: {response.status_code}\")\n",
                "    print(response.text)"
            ]
        },
        {
            "cell_type": "code",
            "execution_count": 44,
            "metadata": {},
            "outputs": [
                {
                    "name": "stdout",
                    "output_type": "stream",
                    "text": [
                        "Top tracks for TOOL:\n",
                        "1. Schism - Album: Lateralus Popularity: 68 Duration: 6.72555\n",
                        "2. The Pot - Album: 10,000 Days Popularity: 67 Duration: 6.365766666666667\n",
                        "3. Sober - Album: Undertow Popularity: 67 Duration: 5.114216666666667\n",
                        "4. Forty Six & 2 - Album: Ænima Popularity: 67 Duration: 6.0511\n",
                        "5. Stinkfist - Album: Ænima Popularity: 66 Duration: 5.202\n",
                        "6. Pneuma - Album: Fear Inoculum Popularity: 63 Duration: 11.886516666666667\n",
                        "7. Vicarious - Album: 10,000 Days Popularity: 62 Duration: 7.1113333333333335\n",
                        "8. Parabola - Album: Lateralus Popularity: 62 Duration: 6.061333333333334\n",
                        "9. Jambi - Album: 10,000 Days Popularity: 61 Duration: 7.476883333333333\n",
                        "10. Ænema - Album: Ænima Popularity: 60 Duration: 6.654433333333333\n"
                    ]
                }
            ],
            "source": [
                "top_tracks_url = f\"https://api.spotify.com/v1/artists/{artist_id}/top-tracks\"\n",
                "params = {\n",
                "    \"market\": \"US\"\n",
                "}\n",
                "\n",
                "response = requests.get(top_tracks_url, headers=headers, params=params)\n",
                "\n",
                "if response.status_code == 200:\n",
                "    top_tracks_data = response.json()\n",
                "    print(f\"Top tracks for {artist_name}:\")\n",
                "    for idx, track in enumerate(top_tracks_data['tracks'], start=1):\n",
                "        track_name = track['name']\n",
                "        album_name = track['album']['name']\n",
                "        popularity = track['popularity'] \n",
                "        duration_ms = track['duration_ms'] \n",
                "        duration_min = duration_ms / 60000\n",
                "        print(f\"{idx}. {track_name} - Album: {album_name} Popularity: {popularity} Duration: {duration_min}\")\n",
                "else:\n",
                "    print(f\"Failed to get top tracks. Status code: {response.status_code}\")\n",
                "    print(response.text)"
            ]
        },
        {
            "cell_type": "code",
            "execution_count": 42,
            "metadata": {},
            "outputs": [
                {
                    "name": "stdout",
                    "output_type": "stream",
                    "text": [
                        "Top 3 Most Popular Songs:\n",
                        "      name  popularity\n",
                        "0   Schism          68\n",
                        "1  The Pot          67\n",
                        "2    Sober          67\n"
                    ]
                }
            ],
            "source": [
                "import pandas as pd\n",
                "df_sorted = df.sort_values(by='popularity', ascending=False)\n",
                "\n",
                "top_3_songs = df_sorted.head(3)\n",
                "\n",
                "print(\"Top 3 Most Popular Songs:\")\n",
                "print(top_3_songs[['name', 'popularity']])"
            ]
        },
        {
            "cell_type": "code",
            "execution_count": 45,
            "metadata": {},
            "outputs": [
                {
                    "data": {
                        "image/png": "[encoded data removed]",
                        "text/plain": [
                            "<Figure size 1000x600 with 1 Axes>"
                        ]
                    },
                    "metadata": {},
                    "output_type": "display_data"
                },
                {
                    "name": "stdout",
                    "output_type": "stream",
                    "text": [
                        "There seems to be no correlation between how long a song is and its popularity. With the band Tool there is no direct\n",
                        "link of what makes their songs more popular: -0.3490861074822386\n"
                    ]
                }
            ],
            "source": [
                "import matplotlib.pyplot as plt\n",
                "df['duration_min'] = df['duration_ms'] / 60000\n",
                "\n",
                "plt.figure(figsize=(10, 6))\n",
                "plt.scatter(df['duration_min'], df['popularity'], color='blue', alpha=0.5)\n",
                "plt.title('Song Duration vs Popularity')\n",
                "plt.xlabel('Duration (minutes)')\n",
                "plt.ylabel('Popularity')\n",
                "plt.grid(True)\n",
                "plt.show()\n",
                "\n",
                "correlation = df['duration_min'].corr(df['popularity'])\n",
                "print(f\"There seems to be no correlation between how long a song is and its popularity. With the band Tool there is no direct\")\n",
                "print(f\"link of what makes their songs more popular: {correlation}\")"
            ]
        }
    ],
    "metadata": {
        "kernelspec": {
            "display_name": "Python 3",
            "language": "python",
            "name": "python3"
        },
        "language_info": {
            "codemirror_mode": {
                "name": "ipython",
                "version": 3
            },
            "file_extension": ".py",
            "mimetype": "text/x-python",
            "name": "python",
            "nbconvert_exporter": "python",
            "pygments_lexer": "ipython3",
            "version": "3.11.4"
        },
        "orig_nbformat": 4
    },
    "nbformat": 4,
    "nbformat_minor": 2
}
